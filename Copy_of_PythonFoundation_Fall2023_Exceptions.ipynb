{
  "nbformat": 4,
  "nbformat_minor": 0,
  "metadata": {
    "colab": {
      "provenance": [],
      "include_colab_link": true
    },
    "kernelspec": {
      "name": "python3",
      "display_name": "Python 3"
    },
    "language_info": {
      "name": "python"
    }
  },
  "cells": [
    {
      "cell_type": "markdown",
      "metadata": {
        "id": "view-in-github",
        "colab_type": "text"
      },
      "source": [
        "<a href=\"https://colab.research.google.com/github/ronninah/Python_Foundation_Fall_2023_Ronnie/blob/main/Copy_of_PythonFoundation_Fall2023_Exceptions.ipynb\" target=\"_parent\"><img src=\"https://colab.research.google.com/assets/colab-badge.svg\" alt=\"Open In Colab\"/></a>"
      ]
    },
    {
      "cell_type": "markdown",
      "source": [
        "# Class Topics\n",
        "\n",
        "1. Preject presentation\n",
        "1. Review previous class\n",
        "1. Review homework\n",
        "1. Handling Exceptions"
      ],
      "metadata": {
        "id": "mW-2_hWjY44P"
      }
    },
    {
      "cell_type": "markdown",
      "source": [
        "# Preject\n",
        "@Mahesh\n",
        "@Andrés"
      ],
      "metadata": {
        "id": "0AH3HO5AZHuB"
      }
    },
    {
      "cell_type": "markdown",
      "source": [
        "# Review previous class\n",
        "\n",
        "- File I/O\n",
        "- Popular File Types\n",
        "- Requests"
      ],
      "metadata": {
        "id": "_bSX62LqZnJ_"
      }
    },
    {
      "cell_type": "markdown",
      "source": [
        "# Homework\n",
        "\n",
        "- Did anyone finish the HTTP Requests JSON? Does anyone want to show and tell?\n",
        "- Play Terminus game - questions?"
      ],
      "metadata": {
        "id": "HleJeWt-Zw_T"
      }
    },
    {
      "cell_type": "markdown",
      "source": [],
      "metadata": {
        "id": "33QZ1KH-Zv4F"
      }
    },
    {
      "cell_type": "markdown",
      "source": [
        "# Exceptions"
      ],
      "metadata": {
        "id": "-Akb5T-GZ4jC"
      }
    },
    {
      "cell_type": "markdown",
      "source": [
        "Python exceptions are a way of handling errors that occur during program execution. They allow you to write code that is more robust and less likely to crash unexpectedly. An exception is an event that occurs during program execution that stops the normal flow of the program. Exceptions can be caused by a variety of things, such as:\n",
        "\n",
        "- User input errors: For example, if a user enters a number when a string is expected, this will raise an exception.\n",
        "- File I/O errors: For example, if a file cannot be opened, this will raise an exception.\n",
        "- Programming errors: For example, if you try to divide a number by zero, this will raise an exception.\n",
        "\n",
        "## Why do we care about Python exceptions?\n",
        "\n",
        "There are several reasons why we should care about exceptions:\n",
        "\n",
        "- They make our code more robust: By handling exceptions, we can prevent our programs from crashing unexpectedly.\n",
        "- They make our code easier to debug: Exceptions can provide useful information about what went wrong in our program, which can make it easier to fix bugs.\n",
        "- They make our code more readable: By using try-except blocks, we can make our code more readable and easier to understand.\n",
        "\n",
        "## When to use Python exceptions?\n",
        "\n",
        "There are a few different scenarios in which we should use exceptions:\n",
        "\n",
        "- When we expect an error to occur: For example, if we are asking the user for input, we should expect them to enter an invalid value sometimes.\n",
        "- When we want to recover from an error: For example, if we are trying to open a file, we may want to try opening a different file if the first one fails.\n",
        "- When we want to log an error: For example, we may want to log an error to a file so that we can investigate it later.\n",
        "\n",
        "## How to use Python exceptions?\n",
        "\n",
        "There are two main ways to use exceptions in Python:\n",
        "\n",
        "### Being prepared for the error and knowing what to do:\n",
        "\n",
        "The `try`-`except` block: This is the most common way to handle exceptions. A try-except block consists of a try block and one or more except blocks. The try block contains the code that you want to try to execute. The except blocks contain code that you want to execute if an exception occurs.\n",
        "\n",
        "### Not being prepared or wanting the application to fail (because we don't know how to handle ALL exceptions):\n",
        "\n",
        "The `raise` statement: This statement is used to raise an exception. Raising an exception will stop the normal flow of the program and cause the exception to be handled by the nearest except block."
      ],
      "metadata": {
        "id": "0n0o7qAMZ9A2"
      }
    },
    {
      "cell_type": "markdown",
      "source": [
        "# Enough talk, show me the money:\n",
        "\n",
        "| Exception | Description | Example |\n",
        "|---|---|---|\n",
        "| ZeroDivisionError | Raised when a division operation results in a zero divisor. | `10 / 0` |\n",
        "| NameError | Raised when an attempt is made to use a variable that has not been defined. | `print(x)` (when `x` is not defined) |\n",
        "| TypeError | Raised when an operation is applied to a variable of an inappropriate type. | `int(\"hello\")` |\n",
        "| IndexError | Raised when an attempt is made to access an element of a sequence using an invalid index. | `my_list[10]` (when `my_list` has only 5 elements) |\n",
        "| KeyError | Raised when an attempt is made to access a key that does not exist in a dictionary. | `my_dict[\"name\"]` (when `my_dict` does not have a key named \"name\") |\n",
        "| FileNotFoundError | Raised when an attempt is made to open a file that does not exist. | `open(\"myfile.txt\", \"r\")` (when `myfile.txt` does not exist in the current directory) |\n",
        "| IOError | Raised when an error occurs during input/output operations. | `read_data = file.read()` (when the file cannot be read) |\n",
        "| KeyboardInterrupt | Raised when the user presses the Ctrl+C or Delete key. | `while True: pass` (pressing Ctrl+C will interrupt the loop) |\n",
        "| MemoryError | Raised when the program runs out of memory. | `my_list = [1] * 10` |"
      ],
      "metadata": {
        "id": "XI0SVTzOiQRt"
      }
    },
    {
      "cell_type": "code",
      "source": [
        "my_dict = {\"name\": \"rick\"}\n",
        "my_dict[\"age\"]"
      ],
      "metadata": {
        "colab": {
          "base_uri": "https://localhost:8080/",
          "height": 199
        },
        "id": "ru5LctSCiheG",
        "outputId": "7fe63043-f1bb-4cb7-e3e8-ad4feca843ae"
      },
      "execution_count": null,
      "outputs": [
        {
          "output_type": "error",
          "ename": "KeyError",
          "evalue": "ignored",
          "traceback": [
            "\u001b[0;31m---------------------------------------------------------------------------\u001b[0m",
            "\u001b[0;31mKeyError\u001b[0m                                  Traceback (most recent call last)",
            "\u001b[0;32m<ipython-input-10-46d33e0a2259>\u001b[0m in \u001b[0;36m<cell line: 2>\u001b[0;34m()\u001b[0m\n\u001b[1;32m      1\u001b[0m \u001b[0mmy_dict\u001b[0m \u001b[0;34m=\u001b[0m \u001b[0;34m{\u001b[0m\u001b[0;34m\"name\"\u001b[0m\u001b[0;34m:\u001b[0m \u001b[0;34m\"rick\"\u001b[0m\u001b[0;34m}\u001b[0m\u001b[0;34m\u001b[0m\u001b[0;34m\u001b[0m\u001b[0m\n\u001b[0;32m----> 2\u001b[0;31m \u001b[0mmy_dict\u001b[0m\u001b[0;34m[\u001b[0m\u001b[0;34m\"age\"\u001b[0m\u001b[0;34m]\u001b[0m\u001b[0;34m\u001b[0m\u001b[0;34m\u001b[0m\u001b[0m\n\u001b[0m",
            "\u001b[0;31mKeyError\u001b[0m: 'age'"
          ]
        }
      ]
    },
    {
      "cell_type": "code",
      "source": [
        "\"joao\"/2"
      ],
      "metadata": {
        "colab": {
          "base_uri": "https://localhost:8080/",
          "height": 181
        },
        "id": "9rOzfxM2ivfy",
        "outputId": "cc7d708b-2022-4803-85fc-634f4051a7f7"
      },
      "execution_count": null,
      "outputs": [
        {
          "output_type": "error",
          "ename": "TypeError",
          "evalue": "ignored",
          "traceback": [
            "\u001b[0;31m---------------------------------------------------------------------------\u001b[0m",
            "\u001b[0;31mTypeError\u001b[0m                                 Traceback (most recent call last)",
            "\u001b[0;32m<ipython-input-12-4a5adb177364>\u001b[0m in \u001b[0;36m<cell line: 1>\u001b[0;34m()\u001b[0m\n\u001b[0;32m----> 1\u001b[0;31m \u001b[0;34m\"joao\"\u001b[0m\u001b[0;34m/\u001b[0m\u001b[0;36m2\u001b[0m\u001b[0;34m\u001b[0m\u001b[0;34m\u001b[0m\u001b[0m\n\u001b[0m",
            "\u001b[0;31mTypeError\u001b[0m: unsupported operand type(s) for /: 'str' and 'int'"
          ]
        }
      ]
    },
    {
      "cell_type": "code",
      "source": [
        "10/0"
      ],
      "metadata": {
        "colab": {
          "base_uri": "https://localhost:8080/",
          "height": 181
        },
        "id": "9KRX7Y81i0dX",
        "outputId": "a1d28aa5-df1f-42c1-cadc-f17b706aed26"
      },
      "execution_count": null,
      "outputs": [
        {
          "output_type": "error",
          "ename": "ZeroDivisionError",
          "evalue": "ignored",
          "traceback": [
            "\u001b[0;31m---------------------------------------------------------------------------\u001b[0m",
            "\u001b[0;31mZeroDivisionError\u001b[0m                         Traceback (most recent call last)",
            "\u001b[0;32m<ipython-input-15-e574edb36883>\u001b[0m in \u001b[0;36m<cell line: 1>\u001b[0;34m()\u001b[0m\n\u001b[0;32m----> 1\u001b[0;31m \u001b[0;36m10\u001b[0m\u001b[0;34m/\u001b[0m\u001b[0;36m0\u001b[0m\u001b[0;34m\u001b[0m\u001b[0;34m\u001b[0m\u001b[0m\n\u001b[0m",
            "\u001b[0;31mZeroDivisionError\u001b[0m: division by zero"
          ]
        }
      ]
    },
    {
      "cell_type": "code",
      "source": [
        "open(\"some-file-that-doesnt-exist.txt\", \"r\")\n",
        "print(\"hello\")"
      ],
      "metadata": {
        "colab": {
          "base_uri": "https://localhost:8080/",
          "height": 199
        },
        "id": "262bSeZvi4ym",
        "outputId": "3fa865e1-937b-450d-d0ec-9e32257d1ca3"
      },
      "execution_count": null,
      "outputs": [
        {
          "output_type": "error",
          "ename": "FileNotFoundError",
          "evalue": "ignored",
          "traceback": [
            "\u001b[0;31m---------------------------------------------------------------------------\u001b[0m",
            "\u001b[0;31mFileNotFoundError\u001b[0m                         Traceback (most recent call last)",
            "\u001b[0;32m<ipython-input-2-b129ff5456cc>\u001b[0m in \u001b[0;36m<cell line: 1>\u001b[0;34m()\u001b[0m\n\u001b[0;32m----> 1\u001b[0;31m \u001b[0mopen\u001b[0m\u001b[0;34m(\u001b[0m\u001b[0;34m\"some-file-that-doesnt-exist.txt\"\u001b[0m\u001b[0;34m,\u001b[0m \u001b[0;34m\"r\"\u001b[0m\u001b[0;34m)\u001b[0m\u001b[0;34m\u001b[0m\u001b[0;34m\u001b[0m\u001b[0m\n\u001b[0m\u001b[1;32m      2\u001b[0m \u001b[0mprint\u001b[0m\u001b[0;34m(\u001b[0m\u001b[0;34m\"hello\"\u001b[0m\u001b[0;34m)\u001b[0m\u001b[0;34m\u001b[0m\u001b[0;34m\u001b[0m\u001b[0m\n",
            "\u001b[0;31mFileNotFoundError\u001b[0m: [Errno 2] No such file or directory: 'some-file-that-doesnt-exist.txt'"
          ]
        }
      ]
    },
    {
      "cell_type": "markdown",
      "source": [
        "# Let's figure out how to handle them"
      ],
      "metadata": {
        "id": "fRYE6V1Eijpv"
      }
    },
    {
      "cell_type": "code",
      "source": [
        "# Example 1: Basic try/except\n",
        "# This example illustrates how to use a try-except block to handle an exception\n",
        "# that occurs when dividing a number by zero.\n",
        "try:\n",
        "    result = 10 / 0\n",
        "except ZeroDivisionError:\n",
        "    print(\"Error: Division by zero is not allowed\")\n",
        "\n",
        "print(\"hello, I'm still executing\")"
      ],
      "metadata": {
        "colab": {
          "base_uri": "https://localhost:8080/"
        },
        "id": "iQgOWINnZu93",
        "outputId": "bc36140e-1e9a-4abb-b259-86594b205abf"
      },
      "execution_count": null,
      "outputs": [
        {
          "output_type": "stream",
          "name": "stdout",
          "text": [
            "Error: Division by zero is not allowed\n",
            "hello, I'm still executing\n"
          ]
        }
      ]
    },
    {
      "cell_type": "code",
      "source": [
        "# Example 2: try/except/else\n",
        "# This example demonstrates how to use a try-except-else block to handle an\n",
        "# exception and execute additional code if no exception occurs.\n",
        "try:\n",
        "    number = int(input(\"Enter a number: \"))\n",
        "except ValueError:\n",
        "    print(\"Please enter a valid number\")\n",
        "else:\n",
        "    print(\"The square of\", number, \"is\", number ** 2)"
      ],
      "metadata": {
        "colab": {
          "base_uri": "https://localhost:8080/"
        },
        "id": "5xkj_t8DeowI",
        "outputId": "a25071ad-3224-4908-a00d-5ac7533e9b61"
      },
      "execution_count": null,
      "outputs": [
        {
          "output_type": "stream",
          "name": "stdout",
          "text": [
            "Enter a number: \"joao\"\n",
            "Please enter a valid number\n"
          ]
        }
      ]
    },
    {
      "cell_type": "code",
      "source": [
        "# Example 3: try/except/finally\n",
        "# This example showcases how to use a try-except-finally block to handle an\n",
        "# exception and execute code regardless of whether an exception occurs.\n",
        "\n",
        "try:\n",
        "    file = open(\"myfile.txt\", \"r\")\n",
        "    print(file.read())\n",
        "except FileNotFoundError:\n",
        "    print(\"The file 'myfile.txt' could not be found\")\n",
        "finally:\n",
        "    print(\"I will run no matter what!!!!\")\n",
        "    try:\n",
        "        if file:\n",
        "            file.close()\n",
        "    except NameError:\n",
        "      print(\"no need to close file, file not defined\")"
      ],
      "metadata": {
        "colab": {
          "base_uri": "https://localhost:8080/"
        },
        "id": "zKKh1nOef9CS",
        "outputId": "d6fe7b30-67cd-4d7a-d508-2c1ffaa86780"
      },
      "execution_count": null,
      "outputs": [
        {
          "output_type": "stream",
          "name": "stdout",
          "text": [
            "The file 'myfile.txt' could not be found\n",
            "I will run no matter what!!!!\n",
            "no need to close file, file not defined\n"
          ]
        }
      ]
    },
    {
      "cell_type": "code",
      "source": [
        "try:\n",
        "  some_var = 1/0\n",
        "except ZeroDivisionError:\n",
        "  raise Exception(\"this isn't right\")"
      ],
      "metadata": {
        "colab": {
          "base_uri": "https://localhost:8080/",
          "height": 402
        },
        "id": "47P4l6fdNRgF",
        "outputId": "183d3659-7410-47a1-9cd7-938fff307784"
      },
      "execution_count": null,
      "outputs": [
        {
          "output_type": "error",
          "ename": "Exception",
          "evalue": "ignored",
          "traceback": [
            "\u001b[0;31m---------------------------------------------------------------------------\u001b[0m",
            "\u001b[0;31mZeroDivisionError\u001b[0m                         Traceback (most recent call last)",
            "\u001b[0;32m<ipython-input-18-51271f9503c8>\u001b[0m in \u001b[0;36m<cell line: 1>\u001b[0;34m()\u001b[0m\n\u001b[1;32m      1\u001b[0m \u001b[0;32mtry\u001b[0m\u001b[0;34m:\u001b[0m\u001b[0;34m\u001b[0m\u001b[0;34m\u001b[0m\u001b[0m\n\u001b[0;32m----> 2\u001b[0;31m   \u001b[0msome_var\u001b[0m \u001b[0;34m=\u001b[0m \u001b[0;36m1\u001b[0m\u001b[0;34m/\u001b[0m\u001b[0;36m0\u001b[0m\u001b[0;34m\u001b[0m\u001b[0;34m\u001b[0m\u001b[0m\n\u001b[0m\u001b[1;32m      3\u001b[0m \u001b[0;32mexcept\u001b[0m \u001b[0mZeroDivisionError\u001b[0m\u001b[0;34m:\u001b[0m\u001b[0;34m\u001b[0m\u001b[0;34m\u001b[0m\u001b[0m\n",
            "\u001b[0;31mZeroDivisionError\u001b[0m: division by zero",
            "\nDuring handling of the above exception, another exception occurred:\n",
            "\u001b[0;31mException\u001b[0m                                 Traceback (most recent call last)",
            "\u001b[0;32m<ipython-input-18-51271f9503c8>\u001b[0m in \u001b[0;36m<cell line: 1>\u001b[0;34m()\u001b[0m\n\u001b[1;32m      2\u001b[0m   \u001b[0msome_var\u001b[0m \u001b[0;34m=\u001b[0m \u001b[0;36m1\u001b[0m\u001b[0;34m/\u001b[0m\u001b[0;36m0\u001b[0m\u001b[0;34m\u001b[0m\u001b[0;34m\u001b[0m\u001b[0m\n\u001b[1;32m      3\u001b[0m \u001b[0;32mexcept\u001b[0m \u001b[0mZeroDivisionError\u001b[0m\u001b[0;34m:\u001b[0m\u001b[0;34m\u001b[0m\u001b[0;34m\u001b[0m\u001b[0m\n\u001b[0;32m----> 4\u001b[0;31m   \u001b[0;32mraise\u001b[0m \u001b[0mException\u001b[0m\u001b[0;34m(\u001b[0m\u001b[0;34m\"this isn't right\"\u001b[0m\u001b[0;34m)\u001b[0m\u001b[0;34m\u001b[0m\u001b[0;34m\u001b[0m\u001b[0m\n\u001b[0m",
            "\u001b[0;31mException\u001b[0m: this isn't right"
          ]
        }
      ]
    },
    {
      "cell_type": "code",
      "source": [
        "# Example 4: checking another library raised an exception\n",
        "# How to check if an external\n",
        "def check_age(age: int):\n",
        "    if age < 18:\n",
        "        raise ValueError(\"Age must be 18 or older to drive\")\n",
        "\n",
        "try:\n",
        "    check_age(16)\n",
        "except ZeroDivisionError as error:\n",
        "    print(error)\n",
        "except ValueError as error:\n",
        "    print(error)"
      ],
      "metadata": {
        "colab": {
          "base_uri": "https://localhost:8080/"
        },
        "id": "P_4mGnRjgcgx",
        "outputId": "c37bd396-346a-4089-cba0-9b1615023499"
      },
      "execution_count": null,
      "outputs": [
        {
          "output_type": "stream",
          "name": "stdout",
          "text": [
            "Age must be 18 or older to drive\n"
          ]
        }
      ]
    },
    {
      "cell_type": "code",
      "source": [
        "# You don't need to catch just one exception, you can try to catch\n",
        "# multiple.\n",
        "\n",
        "try:\n",
        "    # Open the file in read mode\n",
        "    file = open(\"myfile.txt\", \"r\")\n",
        "    # Read the contents of the file\n",
        "    contents = file.read()\n",
        "except FileNotFoundError:\n",
        "    # Handle file not found error\n",
        "    print(\"The file 'myfile.txt' could not be found\")\n",
        "except IOError as error:\n",
        "    # Handle other I/O errors\n",
        "    print(\"An I/O error occurred:\", error)\n",
        "finally:\n",
        "    # Close the file if it was opened\n",
        "    if file:\n",
        "        file.close()"
      ],
      "metadata": {
        "colab": {
          "base_uri": "https://localhost:8080/",
          "height": 255
        },
        "id": "WwD1fUHqhVDi",
        "outputId": "18c85c3c-4b1e-4650-cae7-a5cc1383f546"
      },
      "execution_count": null,
      "outputs": [
        {
          "output_type": "stream",
          "name": "stdout",
          "text": [
            "The file 'myfile.txt' could not be found\n"
          ]
        },
        {
          "output_type": "error",
          "ename": "NameError",
          "evalue": "ignored",
          "traceback": [
            "\u001b[0;31m---------------------------------------------------------------------------\u001b[0m",
            "\u001b[0;31mNameError\u001b[0m                                 Traceback (most recent call last)",
            "\u001b[0;32m<ipython-input-17-fbc5fa99230a>\u001b[0m in \u001b[0;36m<cell line: 4>\u001b[0;34m()\u001b[0m\n\u001b[1;32m     15\u001b[0m \u001b[0;32mfinally\u001b[0m\u001b[0;34m:\u001b[0m\u001b[0;34m\u001b[0m\u001b[0;34m\u001b[0m\u001b[0m\n\u001b[1;32m     16\u001b[0m     \u001b[0;31m# Close the file if it was opened\u001b[0m\u001b[0;34m\u001b[0m\u001b[0;34m\u001b[0m\u001b[0m\n\u001b[0;32m---> 17\u001b[0;31m     \u001b[0;32mif\u001b[0m \u001b[0mfile\u001b[0m\u001b[0;34m:\u001b[0m\u001b[0;34m\u001b[0m\u001b[0;34m\u001b[0m\u001b[0m\n\u001b[0m\u001b[1;32m     18\u001b[0m         \u001b[0mfile\u001b[0m\u001b[0;34m.\u001b[0m\u001b[0mclose\u001b[0m\u001b[0;34m(\u001b[0m\u001b[0;34m)\u001b[0m\u001b[0;34m\u001b[0m\u001b[0;34m\u001b[0m\u001b[0m\n",
            "\u001b[0;31mNameError\u001b[0m: name 'file' is not defined"
          ]
        }
      ]
    },
    {
      "cell_type": "markdown",
      "source": [
        "Write a function that takes a list of numbers as input and returns the average of the numbers. The function should raise a ValueError if the list is empty."
      ],
      "metadata": {
        "id": "jCFoTGKHRR0Z"
      }
    },
    {
      "cell_type": "code",
      "source": [],
      "metadata": {
        "id": "qdqNcp1nQKQi"
      },
      "execution_count": null,
      "outputs": []
    },
    {
      "cell_type": "markdown",
      "source": [
        "write a function"
      ],
      "metadata": {
        "id": "15IOzQeoZH6p"
      }
    }
  ]
}